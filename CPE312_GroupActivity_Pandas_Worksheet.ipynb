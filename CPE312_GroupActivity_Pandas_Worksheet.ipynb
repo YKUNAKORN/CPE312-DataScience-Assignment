{
 "cells": [
  {
   "cell_type": "markdown",
   "id": "65b59697",
   "metadata": {},
   "source": [
    "\n",
    "# CPE312 – กิจกรรมกลุ่ม: Data Manipulation with Pandas (Beer Reviews)\n",
    "\n",
    "**วัตถุประสงค์ของกิจกรรม**\n",
    "- ฝึกใช้งาน `pandas` กับข้อมูลจริง: อ่านไฟล์, ตรวจสอบข้อมูล, คัดกรอง, เรียงลำดับ, จัดกลุ่ม (groupby), สรุปผล\n",
    "- ฝึกตั้งคำถามเชิงวิเคราะห์จากข้อมูล และเปรียบเทียบแนวทางตนเองกับโค้ดที่ได้จาก ChatGPT อย่างมีวิจารณญาณ\n",
    "\n",
    "\n",
    "> **รูปแบบการทำงาน:** ทำงานเป็นกลุ่ม (3–5 คน) ในโน้ตบุ๊กนี้ ส่งไฟล์ `.ipynb` พร้อมผลลัพธ์ และคำอธิบายสั้น ๆ ใต้แต่ละคำตอบ\n"
   ]
  },
  {
   "cell_type": "markdown",
   "id": "e81bad83",
   "metadata": {},
   "source": [
    "## 0) Setup & ตรวจสอบไฟล์ข้อมูล"
   ]
  },
  {
   "cell_type": "code",
   "execution_count": 8,
   "id": "ca3dbbe1",
   "metadata": {},
   "outputs": [
    {
     "name": "stdout",
     "output_type": "stream",
     "text": [
      "Shape: (1586614, 13)\n"
     ]
    },
    {
     "data": {
      "text/html": [
       "<div>\n",
       "<style scoped>\n",
       "    .dataframe tbody tr th:only-of-type {\n",
       "        vertical-align: middle;\n",
       "    }\n",
       "\n",
       "    .dataframe tbody tr th {\n",
       "        vertical-align: top;\n",
       "    }\n",
       "\n",
       "    .dataframe thead th {\n",
       "        text-align: right;\n",
       "    }\n",
       "</style>\n",
       "<table border=\"1\" class=\"dataframe\">\n",
       "  <thead>\n",
       "    <tr style=\"text-align: right;\">\n",
       "      <th></th>\n",
       "      <th>brewery_id</th>\n",
       "      <th>brewery_name</th>\n",
       "      <th>review_time</th>\n",
       "      <th>review_overall</th>\n",
       "      <th>review_aroma</th>\n",
       "      <th>review_appearance</th>\n",
       "      <th>review_profilename</th>\n",
       "      <th>beer_style</th>\n",
       "      <th>review_palate</th>\n",
       "      <th>review_taste</th>\n",
       "      <th>beer_name</th>\n",
       "      <th>beer_abv</th>\n",
       "      <th>beer_beerid</th>\n",
       "    </tr>\n",
       "  </thead>\n",
       "  <tbody>\n",
       "    <tr>\n",
       "      <th>0</th>\n",
       "      <td>10325</td>\n",
       "      <td>Vecchio Birraio</td>\n",
       "      <td>1234817823</td>\n",
       "      <td>1.5</td>\n",
       "      <td>2.0</td>\n",
       "      <td>2.5</td>\n",
       "      <td>stcules</td>\n",
       "      <td>Hefeweizen</td>\n",
       "      <td>1.5</td>\n",
       "      <td>1.5</td>\n",
       "      <td>Sausa Weizen</td>\n",
       "      <td>5.0</td>\n",
       "      <td>47986</td>\n",
       "    </tr>\n",
       "    <tr>\n",
       "      <th>1</th>\n",
       "      <td>10325</td>\n",
       "      <td>Vecchio Birraio</td>\n",
       "      <td>1235915097</td>\n",
       "      <td>3.0</td>\n",
       "      <td>2.5</td>\n",
       "      <td>3.0</td>\n",
       "      <td>stcules</td>\n",
       "      <td>English Strong Ale</td>\n",
       "      <td>3.0</td>\n",
       "      <td>3.0</td>\n",
       "      <td>Red Moon</td>\n",
       "      <td>6.2</td>\n",
       "      <td>48213</td>\n",
       "    </tr>\n",
       "    <tr>\n",
       "      <th>2</th>\n",
       "      <td>10325</td>\n",
       "      <td>Vecchio Birraio</td>\n",
       "      <td>1235916604</td>\n",
       "      <td>3.0</td>\n",
       "      <td>2.5</td>\n",
       "      <td>3.0</td>\n",
       "      <td>stcules</td>\n",
       "      <td>Foreign / Export Stout</td>\n",
       "      <td>3.0</td>\n",
       "      <td>3.0</td>\n",
       "      <td>Black Horse Black Beer</td>\n",
       "      <td>6.5</td>\n",
       "      <td>48215</td>\n",
       "    </tr>\n",
       "  </tbody>\n",
       "</table>\n",
       "</div>"
      ],
      "text/plain": [
       "   brewery_id     brewery_name  review_time  review_overall  review_aroma  \\\n",
       "0       10325  Vecchio Birraio   1234817823             1.5           2.0   \n",
       "1       10325  Vecchio Birraio   1235915097             3.0           2.5   \n",
       "2       10325  Vecchio Birraio   1235916604             3.0           2.5   \n",
       "\n",
       "   review_appearance review_profilename              beer_style  \\\n",
       "0                2.5            stcules              Hefeweizen   \n",
       "1                3.0            stcules      English Strong Ale   \n",
       "2                3.0            stcules  Foreign / Export Stout   \n",
       "\n",
       "   review_palate  review_taste               beer_name  beer_abv  beer_beerid  \n",
       "0            1.5           1.5            Sausa Weizen       5.0        47986  \n",
       "1            3.0           3.0                Red Moon       6.2        48213  \n",
       "2            3.0           3.0  Black Horse Black Beer       6.5        48215  "
      ]
     },
     "execution_count": 8,
     "metadata": {},
     "output_type": "execute_result"
    }
   ],
   "source": [
    "\n",
    "import os\n",
    "import pandas as pd\n",
    "\n",
    "# ✅ ปรับชื่อไฟล์ได้ตามที่ผู้สอนแจก\n",
    "INPUT_FILE = \"beer_reviews.csv\"\n",
    "\n",
    "assert os.path.exists(INPUT_FILE), f\"ไม่พบไฟล์ {INPUT_FILE} ในไดเรกทอรีปัจจุบัน\"\n",
    "df = pd.read_csv(INPUT_FILE)\n",
    "print(\"Shape:\", df.shape)\n",
    "df.head(3)\n"
   ]
  },
  {
   "cell_type": "markdown",
   "id": "aa65704a",
   "metadata": {},
   "source": [
    "\n",
    "## 1) ภาพรวมของข้อมูล (Data Overview)\n",
    "\n",
    "**TODO:** \n",
    "1. แสดงจำนวนแถวและคอลัมน์ของ DataFrame  \n",
    "2. แสดงรายชื่อคอลัมน์ทั้งหมด  \n",
    "3. ตรวจสอบชนิดข้อมูล (`dtypes`)  \n",
    "4. ตรวจสอบค่าสูญหาย (missing values) ในแต่ละคอลัมน์\n"
   ]
  },
  {
   "cell_type": "code",
   "execution_count": 9,
   "id": "a03b3f66",
   "metadata": {},
   "outputs": [
    {
     "data": {
      "text/plain": [
       "(1586614, 13)"
      ]
     },
     "execution_count": 9,
     "metadata": {},
     "output_type": "execute_result"
    }
   ],
   "source": [
    "\n",
    "# 1. จำนวนแถวและคอลัมน์\n",
    "# TODO: เขียนโค้ดที่นี่\n",
    "df_shape = df.shape  # แทนด้วยโค้ดของคุณ\n",
    "df_shape\n"
   ]
  },
  {
   "cell_type": "code",
   "execution_count": 10,
   "id": "feafb007",
   "metadata": {},
   "outputs": [
    {
     "data": {
      "text/plain": [
       "['brewery_id',\n",
       " 'brewery_name',\n",
       " 'review_time',\n",
       " 'review_overall',\n",
       " 'review_aroma',\n",
       " 'review_appearance',\n",
       " 'review_profilename',\n",
       " 'beer_style',\n",
       " 'review_palate',\n",
       " 'review_taste',\n",
       " 'beer_name',\n",
       " 'beer_abv',\n",
       " 'beer_beerid']"
      ]
     },
     "execution_count": 10,
     "metadata": {},
     "output_type": "execute_result"
    }
   ],
   "source": [
    "\n",
    "# 2. รายชื่อคอลัมน์ทั้งหมด\n",
    "# TODO: เขียนโค้ดที่นี่\n",
    "columns = df.columns.tolist()\n",
    "columns\n"
   ]
  },
  {
   "cell_type": "code",
   "execution_count": 11,
   "id": "0024ca23",
   "metadata": {},
   "outputs": [
    {
     "data": {
      "text/plain": [
       "brewery_id              int64\n",
       "brewery_name           object\n",
       "review_time             int64\n",
       "review_overall        float64\n",
       "review_aroma          float64\n",
       "review_appearance     float64\n",
       "review_profilename     object\n",
       "beer_style             object\n",
       "review_palate         float64\n",
       "review_taste          float64\n",
       "beer_name              object\n",
       "beer_abv              float64\n",
       "beer_beerid             int64\n",
       "dtype: object"
      ]
     },
     "execution_count": 11,
     "metadata": {},
     "output_type": "execute_result"
    }
   ],
   "source": [
    "\n",
    "# 3. ชนิดข้อมูลของแต่ละคอลัมน์\n",
    "# TODO: เขียนโค้ดที่นี่\n",
    "dtypes = df.dtypes\n",
    "dtypes\n"
   ]
  },
  {
   "cell_type": "code",
   "execution_count": 12,
   "id": "38f63390",
   "metadata": {},
   "outputs": [
    {
     "data": {
      "text/plain": [
       "brewery_id                0\n",
       "brewery_name             15\n",
       "review_time               0\n",
       "review_overall            0\n",
       "review_aroma              0\n",
       "review_appearance         0\n",
       "review_profilename      348\n",
       "beer_style                0\n",
       "review_palate             0\n",
       "review_taste              0\n",
       "beer_name                 0\n",
       "beer_abv              67785\n",
       "beer_beerid               0\n",
       "dtype: int64"
      ]
     },
     "execution_count": 12,
     "metadata": {},
     "output_type": "execute_result"
    }
   ],
   "source": [
    "\n",
    "# 4. ค่าสูญหาย (missing values)\n",
    "# TODO: เขียนโค้ดที่นี่\n",
    "missing = df.isnull().sum()\n",
    "missing\n"
   ]
  },
  {
   "cell_type": "markdown",
   "id": "c4c69801",
   "metadata": {},
   "source": [
    "\n",
    "## 2) การคัดกรองข้อมูล (Filtering)\n",
    "\n",
    "**TODO:** \n",
    "1. เลือกเฉพาะรีวิวของ **beer style** ใดสไตล์หนึ่ง (เช่น *American IPA*)  \n",
    "2. เลือกรีวิวที่มี `overall` > 4.5  \n",
    "3. สร้างตัวแปรใหม่ `strong_beer` เป็น True ถ้า `ABV` > ค่าที่กำหนด (เช่น 7.5)\n",
    "\n",
    "> หมายเหตุ: ชื่อคอลัมน์อาจเป็น `beer_style`, `review_overall`, `beer_abv` หรืออื่น ๆ ตามชุดข้อมูลของคุณ ตรวจสอบจาก `df.columns` ก่อน\n"
   ]
  },
  {
   "cell_type": "code",
   "execution_count": 13,
   "id": "56ad3339",
   "metadata": {},
   "outputs": [
    {
     "data": {
      "text/html": [
       "<div>\n",
       "<style scoped>\n",
       "    .dataframe tbody tr th:only-of-type {\n",
       "        vertical-align: middle;\n",
       "    }\n",
       "\n",
       "    .dataframe tbody tr th {\n",
       "        vertical-align: top;\n",
       "    }\n",
       "\n",
       "    .dataframe thead th {\n",
       "        text-align: right;\n",
       "    }\n",
       "</style>\n",
       "<table border=\"1\" class=\"dataframe\">\n",
       "  <thead>\n",
       "    <tr style=\"text-align: right;\">\n",
       "      <th></th>\n",
       "      <th>brewery_id</th>\n",
       "      <th>brewery_name</th>\n",
       "      <th>review_time</th>\n",
       "      <th>review_overall</th>\n",
       "      <th>review_aroma</th>\n",
       "      <th>review_appearance</th>\n",
       "      <th>review_profilename</th>\n",
       "      <th>beer_style</th>\n",
       "      <th>review_palate</th>\n",
       "      <th>review_taste</th>\n",
       "      <th>beer_name</th>\n",
       "      <th>beer_abv</th>\n",
       "      <th>beer_beerid</th>\n",
       "    </tr>\n",
       "  </thead>\n",
       "  <tbody>\n",
       "    <tr>\n",
       "      <th>257</th>\n",
       "      <td>1075</td>\n",
       "      <td>Caldera Brewing Company</td>\n",
       "      <td>1272945129</td>\n",
       "      <td>4.0</td>\n",
       "      <td>4.0</td>\n",
       "      <td>4.0</td>\n",
       "      <td>Akfan</td>\n",
       "      <td>American IPA</td>\n",
       "      <td>4.0</td>\n",
       "      <td>4.5</td>\n",
       "      <td>Caldera IPA</td>\n",
       "      <td>6.1</td>\n",
       "      <td>10784</td>\n",
       "    </tr>\n",
       "    <tr>\n",
       "      <th>265</th>\n",
       "      <td>1075</td>\n",
       "      <td>Caldera Brewing Company</td>\n",
       "      <td>1324238653</td>\n",
       "      <td>4.0</td>\n",
       "      <td>4.0</td>\n",
       "      <td>4.0</td>\n",
       "      <td>coldriver</td>\n",
       "      <td>American IPA</td>\n",
       "      <td>4.0</td>\n",
       "      <td>4.5</td>\n",
       "      <td>Caldera IPA</td>\n",
       "      <td>6.1</td>\n",
       "      <td>10784</td>\n",
       "    </tr>\n",
       "    <tr>\n",
       "      <th>330</th>\n",
       "      <td>1075</td>\n",
       "      <td>Caldera Brewing Company</td>\n",
       "      <td>1296875377</td>\n",
       "      <td>4.0</td>\n",
       "      <td>4.0</td>\n",
       "      <td>4.0</td>\n",
       "      <td>Mora2000</td>\n",
       "      <td>American IPA</td>\n",
       "      <td>4.0</td>\n",
       "      <td>4.0</td>\n",
       "      <td>Caldera IPA</td>\n",
       "      <td>6.1</td>\n",
       "      <td>10784</td>\n",
       "    </tr>\n",
       "    <tr>\n",
       "      <th>337</th>\n",
       "      <td>1075</td>\n",
       "      <td>Caldera Brewing Company</td>\n",
       "      <td>1297129212</td>\n",
       "      <td>4.0</td>\n",
       "      <td>4.0</td>\n",
       "      <td>4.0</td>\n",
       "      <td>Rutager</td>\n",
       "      <td>American IPA</td>\n",
       "      <td>4.0</td>\n",
       "      <td>3.5</td>\n",
       "      <td>Caldera IPA</td>\n",
       "      <td>6.1</td>\n",
       "      <td>10784</td>\n",
       "    </tr>\n",
       "    <tr>\n",
       "      <th>338</th>\n",
       "      <td>1075</td>\n",
       "      <td>Caldera Brewing Company</td>\n",
       "      <td>1297105083</td>\n",
       "      <td>4.5</td>\n",
       "      <td>4.0</td>\n",
       "      <td>4.0</td>\n",
       "      <td>CHILLINDYLAN</td>\n",
       "      <td>American IPA</td>\n",
       "      <td>4.0</td>\n",
       "      <td>4.0</td>\n",
       "      <td>Caldera IPA</td>\n",
       "      <td>6.1</td>\n",
       "      <td>10784</td>\n",
       "    </tr>\n",
       "  </tbody>\n",
       "</table>\n",
       "</div>"
      ],
      "text/plain": [
       "     brewery_id             brewery_name  review_time  review_overall  \\\n",
       "257        1075  Caldera Brewing Company   1272945129             4.0   \n",
       "265        1075  Caldera Brewing Company   1324238653             4.0   \n",
       "330        1075  Caldera Brewing Company   1296875377             4.0   \n",
       "337        1075  Caldera Brewing Company   1297129212             4.0   \n",
       "338        1075  Caldera Brewing Company   1297105083             4.5   \n",
       "\n",
       "     review_aroma  review_appearance review_profilename    beer_style  \\\n",
       "257           4.0                4.0              Akfan  American IPA   \n",
       "265           4.0                4.0          coldriver  American IPA   \n",
       "330           4.0                4.0           Mora2000  American IPA   \n",
       "337           4.0                4.0            Rutager  American IPA   \n",
       "338           4.0                4.0       CHILLINDYLAN  American IPA   \n",
       "\n",
       "     review_palate  review_taste    beer_name  beer_abv  beer_beerid  \n",
       "257            4.0           4.5  Caldera IPA       6.1        10784  \n",
       "265            4.0           4.5  Caldera IPA       6.1        10784  \n",
       "330            4.0           4.0  Caldera IPA       6.1        10784  \n",
       "337            4.0           3.5  Caldera IPA       6.1        10784  \n",
       "338            4.0           4.0  Caldera IPA       6.1        10784  "
      ]
     },
     "execution_count": 13,
     "metadata": {},
     "output_type": "execute_result"
    }
   ],
   "source": [
    "\n",
    "# 1) เลือกเฉพาะ beer style ตามที่กำหนด\n",
    "TARGET_STYLE = \"American IPA\"  # เปลี่ยนได้\n",
    "# TODO: เขียนโค้ดเลือกแถวตามสไตล์\n",
    "df_style = df[df[\"beer_style\"] == TARGET_STYLE]\n",
    "df_style.head(5)\n"
   ]
  },
  {
   "cell_type": "code",
   "execution_count": 14,
   "id": "28ca99b4",
   "metadata": {},
   "outputs": [
    {
     "data": {
      "text/html": [
       "<div>\n",
       "<style scoped>\n",
       "    .dataframe tbody tr th:only-of-type {\n",
       "        vertical-align: middle;\n",
       "    }\n",
       "\n",
       "    .dataframe tbody tr th {\n",
       "        vertical-align: top;\n",
       "    }\n",
       "\n",
       "    .dataframe thead th {\n",
       "        text-align: right;\n",
       "    }\n",
       "</style>\n",
       "<table border=\"1\" class=\"dataframe\">\n",
       "  <thead>\n",
       "    <tr style=\"text-align: right;\">\n",
       "      <th></th>\n",
       "      <th>beer_name</th>\n",
       "    </tr>\n",
       "  </thead>\n",
       "  <tbody>\n",
       "    <tr>\n",
       "      <th>11</th>\n",
       "      <td>Caldera Ginger Beer</td>\n",
       "    </tr>\n",
       "    <tr>\n",
       "      <th>25</th>\n",
       "      <td>Rauch Ür Bock</td>\n",
       "    </tr>\n",
       "    <tr>\n",
       "      <th>31</th>\n",
       "      <td>Rauch Ür Bock</td>\n",
       "    </tr>\n",
       "    <tr>\n",
       "      <th>42</th>\n",
       "      <td>Rauch Ür Bock</td>\n",
       "    </tr>\n",
       "    <tr>\n",
       "      <th>73</th>\n",
       "      <td>Caldera Pale Ale</td>\n",
       "    </tr>\n",
       "  </tbody>\n",
       "</table>\n",
       "</div>"
      ],
      "text/plain": [
       "              beer_name\n",
       "11  Caldera Ginger Beer\n",
       "25        Rauch Ür Bock\n",
       "31        Rauch Ür Bock\n",
       "42        Rauch Ür Bock\n",
       "73     Caldera Pale Ale"
      ]
     },
     "execution_count": 14,
     "metadata": {},
     "output_type": "execute_result"
    }
   ],
   "source": [
    "\n",
    "# 2) เลือกรีวิวที่มี overall > 4.5\n",
    "# TODO: เขียนโค้ด\n",
    "df_over45 = df[df[\"review_overall\"] > 4.5]\n",
    "df_over45[['beer_name']].head(5)\n"
   ]
  },
  {
   "cell_type": "code",
   "execution_count": 15,
   "id": "3ca5a7d4",
   "metadata": {},
   "outputs": [
    {
     "data": {
      "text/html": [
       "<div>\n",
       "<style scoped>\n",
       "    .dataframe tbody tr th:only-of-type {\n",
       "        vertical-align: middle;\n",
       "    }\n",
       "\n",
       "    .dataframe tbody tr th {\n",
       "        vertical-align: top;\n",
       "    }\n",
       "\n",
       "    .dataframe thead th {\n",
       "        text-align: right;\n",
       "    }\n",
       "</style>\n",
       "<table border=\"1\" class=\"dataframe\">\n",
       "  <thead>\n",
       "    <tr style=\"text-align: right;\">\n",
       "      <th></th>\n",
       "      <th>beer_name</th>\n",
       "      <th>beer_abv</th>\n",
       "      <th>strong_beer</th>\n",
       "    </tr>\n",
       "  </thead>\n",
       "  <tbody>\n",
       "    <tr>\n",
       "      <th>0</th>\n",
       "      <td>Sausa Weizen</td>\n",
       "      <td>5.0</td>\n",
       "      <td>False</td>\n",
       "    </tr>\n",
       "    <tr>\n",
       "      <th>1</th>\n",
       "      <td>Red Moon</td>\n",
       "      <td>6.2</td>\n",
       "      <td>False</td>\n",
       "    </tr>\n",
       "    <tr>\n",
       "      <th>2</th>\n",
       "      <td>Black Horse Black Beer</td>\n",
       "      <td>6.5</td>\n",
       "      <td>False</td>\n",
       "    </tr>\n",
       "    <tr>\n",
       "      <th>3</th>\n",
       "      <td>Sausa Pils</td>\n",
       "      <td>5.0</td>\n",
       "      <td>False</td>\n",
       "    </tr>\n",
       "    <tr>\n",
       "      <th>4</th>\n",
       "      <td>Cauldron DIPA</td>\n",
       "      <td>7.7</td>\n",
       "      <td>True</td>\n",
       "    </tr>\n",
       "  </tbody>\n",
       "</table>\n",
       "</div>"
      ],
      "text/plain": [
       "                beer_name  beer_abv  strong_beer\n",
       "0            Sausa Weizen       5.0        False\n",
       "1                Red Moon       6.2        False\n",
       "2  Black Horse Black Beer       6.5        False\n",
       "3              Sausa Pils       5.0        False\n",
       "4           Cauldron DIPA       7.7         True"
      ]
     },
     "execution_count": 15,
     "metadata": {},
     "output_type": "execute_result"
    }
   ],
   "source": [
    "\n",
    "# 3) เพิ่มคอลัมน์ strong_beer = (ABV > 7.5)\n",
    "# TODO: เขียนโค้ด\n",
    "# ตัวอย่างชื่อคอลัมน์ ABV อาจเป็น 'beer_abv' หรือ 'abv' ให้ตรวจสอบก่อนใช้งาน\n",
    "ABV_COL = 'beer_abv'  # ปรับตามจริง\n",
    "THRESH = 7.5\n",
    "df['strong_beer'] = df[ABV_COL] > THRESH\n",
    "df[['beer_name', ABV_COL, 'strong_beer']].head(5)\n"
   ]
  },
  {
   "cell_type": "markdown",
   "id": "25fde836",
   "metadata": {},
   "source": [
    "\n",
    "## 3) การเรียงลำดับและการเลือก (Sorting & Selection)\n",
    "\n",
    "**TODO:**\n",
    "1. หาชื่อเบียร์ **Top 5** ที่มีค่าเฉลี่ยคะแนนสูงสุด (สมมติคอลัมน์คะแนนรวมคือ `review_overall`)  \n",
    "2. เรียง **breweries** ตามจำนวนรีวิวจากมากไปน้อย\n"
   ]
  },
  {
   "cell_type": "code",
   "execution_count": 16,
   "id": "1282ccce",
   "metadata": {},
   "outputs": [
    {
     "data": {
      "text/plain": [
       "beer_name\n",
       "Taeberry Boch                                              5.0\n",
       "Wasatch Irish Stout                                        5.0\n",
       "Pale Ale S.C.A.G. (Simcoe, Columbus, Amarillo & Galaxy)    5.0\n",
       "Distorter Porter                                           5.0\n",
       "Louwaege's Stout                                           5.0\n",
       "Name: review_overall, dtype: float64"
      ]
     },
     "execution_count": 16,
     "metadata": {},
     "output_type": "execute_result"
    }
   ],
   "source": [
    "\n",
    "# 1) Top 5 เบียร์ที่คะแนนเฉลี่ยสูงสุด\n",
    "# TODO: เขียนโค้ด groupby ตาม beer_name -> ค่าเฉลี่ย review_overall -> เรียงลำดับ\n",
    "top5_beers = df.groupby('beer_name')['review_overall'].mean().sort_values(ascending=False)\n",
    "top5_beers.head(5)\n"
   ]
  },
  {
   "cell_type": "code",
   "execution_count": 17,
   "id": "755b5a02",
   "metadata": {},
   "outputs": [
    {
     "data": {
      "text/plain": [
       "brewery_name\n",
       "Boston Beer Company (Samuel Adams)    39444\n",
       "Dogfish Head Brewery                  33839\n",
       "Stone Brewing Co.                     33066\n",
       "Sierra Nevada Brewing Co.             28751\n",
       "Bell's Brewery, Inc.                  25191\n",
       "Rogue Ales                            24083\n",
       "Founders Brewing Company              20004\n",
       "Victory Brewing Company               19479\n",
       "Lagunitas Brewing Company             16837\n",
       "Avery Brewing Company                 16107\n",
       "Name: review_overall, dtype: int64"
      ]
     },
     "execution_count": 17,
     "metadata": {},
     "output_type": "execute_result"
    }
   ],
   "source": [
    "\n",
    "# 2) เรียงโรงเบียร์ (breweries) ตามจำนวนรีวิว\n",
    "# TODO: เขียนโค้ด groupby โรงเบียร์ แล้วนับจำนวน -> เรียงลำดับ\n",
    "brewery_counts = df.groupby('brewery_name')['review_overall'].count().sort_values(ascending=False)\n",
    "brewery_counts.head(10)\n"
   ]
  },
  {
   "cell_type": "markdown",
   "id": "b9ec1e7e",
   "metadata": {},
   "source": [
    "\n",
    "## 4) สรุปผลแบบจัดกลุ่ม (Aggregation / GroupBy)\n",
    "\n",
    "**TODO:**\n",
    "1. หา **คะแนนเฉลี่ยรวม** ต่อ **beer style**  \n",
    "2. คำนวณ **รัฐ (state) หรือพื้นที่ใด** มีคะแนนเฉลี่ยสูงสุด (หากมีคอลัมน์ state)  \n",
    "3. วิเคราะห์สัดส่วน `strong_beer` ต่อสไตล์เบียร์\n"
   ]
  },
  {
   "cell_type": "code",
   "execution_count": 18,
   "id": "df726b8c",
   "metadata": {},
   "outputs": [
    {
     "data": {
      "text/plain": [
       "beer_style\n",
       "American Wild Ale                   4.093262\n",
       "Gueuze                              4.086287\n",
       "Quadrupel (Quad)                    4.071630\n",
       "Lambic - Unblended                  4.048923\n",
       "American Double / Imperial Stout    4.029820\n",
       "Russian Imperial Stout              4.023084\n",
       "Weizenbock                          4.007969\n",
       "American Double / Imperial IPA      3.998017\n",
       "Flanders Red Ale                    3.992722\n",
       "Rye Beer                            3.981737\n",
       "Name: review_overall, dtype: float64"
      ]
     },
     "execution_count": 18,
     "metadata": {},
     "output_type": "execute_result"
    }
   ],
   "source": [
    "\n",
    "# 1) คะแนนเฉลี่ยรวมต่อ beer style\n",
    "# TODO: เขียนโค้ด groupby\n",
    "avg_by_style = df.groupby('beer_style')['review_overall'].mean().sort_values(ascending=False)\n",
    "avg_by_style.head(10)\n"
   ]
  },
  {
   "cell_type": "code",
   "execution_count": 19,
   "id": "de60f7d1",
   "metadata": {},
   "outputs": [
    {
     "ename": "SyntaxError",
     "evalue": "invalid syntax (3053981573.py, line 4)",
     "output_type": "error",
     "traceback": [
      "  \u001b[36mCell\u001b[39m\u001b[36m \u001b[39m\u001b[32mIn[19]\u001b[39m\u001b[32m, line 4\u001b[39m\n\u001b[31m    \u001b[39m\u001b[31mavg_by_state = #  # แทนด้วยโค้ดของคุณ\u001b[39m\n                   ^\n\u001b[31mSyntaxError\u001b[39m\u001b[31m:\u001b[39m invalid syntax\n"
     ]
    }
   ],
   "source": [
    "\n",
    "# 2) รัฐ/พื้นที่ที่มีคะแนนเฉลี่ยสูงสุด (หากมีคอลัมน์ state)\n",
    "STATE_COL = 'state'  # ปรับตามจริง หากไม่มีสามารถข้ามได้\n",
    "# TODO: เขียนโค้ด\n",
    "avg_by_state = #  # แทนด้วยโค้ดของคุณ\n",
    "avg_by_state.sort_values(ascending=False).head(10)\n"
   ]
  },
  {
   "cell_type": "code",
   "execution_count": 20,
   "id": "81ace37a",
   "metadata": {},
   "outputs": [
    {
     "data": {
      "text/plain": [
       "beer_style\n",
       "Eisbock                            0.992865\n",
       "American Barleywine                0.982528\n",
       "Quadrupel (Quad)                   0.964835\n",
       "Wheatwine                          0.963651\n",
       "Bière de Champagne / Bière Brut    0.961759\n",
       "American Double / Imperial IPA     0.957779\n",
       "Russian Imperial Stout             0.947976\n",
       "Belgian Strong Dark Ale            0.936809\n",
       "English Barleywine                 0.935402\n",
       "Tripel                             0.932735\n",
       "Name: strong_beer, dtype: float64"
      ]
     },
     "execution_count": 20,
     "metadata": {},
     "output_type": "execute_result"
    }
   ],
   "source": [
    "\n",
    "# 3) สัดส่วน strong_beer ต่อสไตล์\n",
    "# TODO: นับจำนวน/คำนวณสัดส่วน strong_beer ภายใต้แต่ละ beer style\n",
    "strong_ratio_by_style = df.groupby('beer_style')['strong_beer'].mean().sort_values(ascending=False)\n",
    "strong_ratio_by_style.head(10)\n"
   ]
  },
  {
   "cell_type": "markdown",
   "id": "a72bfa29",
   "metadata": {},
   "source": [
    "\n",
    "## 5) คำถามวิเคราะห์เชิงลึก (Open-Ended)\n",
    "\n",
    "ตอบด้วย **โค้ด + คำอธิบายสั้น ๆ** ใต้แต่ละข้อต่อไปนี้\n",
    "\n",
    "1. **โรงเบียร์ใดที่ผลิตเบียร์ที่มีปริมาณแอลกอฮอล์ต่อปริมาตร (alc/vol หรือ ABV%) สูงที่สุด?**  \n",
    "2. **ถ้าคุณต้องเลือกเบียร์ 3 ชนิดเพื่อแนะนำ โดยอ้างอิงจากข้อมูลนี้เพียงอย่างเดียว คุณจะเลือกเบียร์ใดบ้าง?** (อธิบายเกณฑ์การเลือก)  \n",
    "3. **ระหว่างกลิ่น (aroma), รสชาติ (taste), ลักษณะภายนอก (appearance), และความรู้สึกบนเพดานปาก (palette) ปัจจัยใดสำคัญที่สุดในการกำหนดคุณภาพโดยรวมของเบียร์?**  \n",
    "   - แนวทาง: ทำการวิเคราะห์ความสัมพันธ์/การถดถอยอย่างง่ายระหว่างคอลัมน์เช่น `review_aroma`, `review_taste`, `review_appearance`, `review_palate` กับ `review_overall`\n"
   ]
  },
  {
   "cell_type": "code",
   "execution_count": 21,
   "id": "a68e473a",
   "metadata": {},
   "outputs": [
    {
     "data": {
      "text/plain": [
       "brewery_name\n",
       "Schorschbräu                                           19.228824\n",
       "Shoes Brewery                                          15.200000\n",
       "Rome Brewing Company                                   13.840000\n",
       "Hurlimann Brewery                                      13.750000\n",
       "Alt-Oberurseler Brauhaus                               13.200000\n",
       "Rascal Creek Brewing Co.                               13.000000\n",
       "Monks Porter House                                     12.466667\n",
       "Brasserie Grain d' Orge (Brasserie Jeanne d'Arc SA)    12.445860\n",
       "Tugboat Brewing Company                                12.187500\n",
       "United Brands Company                                  12.000000\n",
       "Name: beer_abv, dtype: float64"
      ]
     },
     "execution_count": 21,
     "metadata": {},
     "output_type": "execute_result"
    }
   ],
   "source": [
    "\n",
    "# 5.1 โรงเบียร์ที่มี ABV สูงที่สุด\n",
    "# TODO: เขียนโค้ด โดยตรวจสอบชื่อคอลัมน์ ABV และ brewery ชัดเจน\n",
    "ABV_COL = 'beer_abv'       # ปรับตามจริง\n",
    "BREWERY_COL = 'brewery_name'  # ปรับตามจริง\n",
    "# ตัวอย่างวิธี: หา max ABV ต่อโรงเบียร์ แล้วเรียงลำดับ\n",
    "result_abv = df.groupby(BREWERY_COL)[ABV_COL].agg('mean').sort_values(ascending=False) # แทนด้วยโค้ดของคุณ\n",
    "result_abv.head(10)\n"
   ]
  },
  {
   "cell_type": "code",
   "execution_count": 22,
   "id": "6a9997c5",
   "metadata": {},
   "outputs": [
    {
     "data": {
      "text/plain": [
       "brewery_name\n",
       "Schorschbräu            19.228824\n",
       "Shoes Brewery           15.200000\n",
       "Rome Brewing Company    13.840000\n",
       "Name: beer_abv, dtype: float64"
      ]
     },
     "execution_count": 22,
     "metadata": {},
     "output_type": "execute_result"
    }
   ],
   "source": [
    "\n",
    "# 5.2 เลือก 3 เบียร์ที่จะแนะนำ (ระบุเกณฑ์/เหตุผลใน Markdown ด้านล่าง)\n",
    "# TODO: เขียนโค้ดเลือก/จัดอันดับ แล้วแสดง 3 รายการ\n",
    "top3_reco = result_abv.head(3)\n",
    "top3_reco\n"
   ]
  },
  {
   "cell_type": "markdown",
   "id": "9eb51a5b",
   "metadata": {},
   "source": [
    "\n",
    "**คำอธิบายเกณฑ์การเลือก (เขียนเองโดยสรุป 3–5 บรรทัด):**  \n",
    "- เหตุผล 1: ...\n",
    "- เหตุผล 2: ...\n",
    "- เหตุผล 3: ...\n"
   ]
  },
  {
   "cell_type": "code",
   "execution_count": 23,
   "id": "8cc6a89b",
   "metadata": {},
   "outputs": [
    {
     "data": {
      "text/plain": [
       "review_overall       1.000000\n",
       "review_taste         0.789816\n",
       "review_palate        0.701914\n",
       "review_aroma         0.616013\n",
       "review_appearance    0.501732\n",
       "Name: review_overall, dtype: float64"
      ]
     },
     "execution_count": 23,
     "metadata": {},
     "output_type": "execute_result"
    }
   ],
   "source": [
    "\n",
    "# 5.3 ปัจจัยใดสำคัญที่สุดต่อคุณภาพโดยรวม? (ตัวอย่าง: สหสัมพันธ์/ถดถอยเชิงเส้นง่าย ๆ)\n",
    "# TODO: ปรับตามชื่อคอลัมน์ในชุดข้อมูลจริง\n",
    "features = ['review_aroma', 'review_taste', 'review_appearance', 'review_palate']  # ปรับตามจริง\n",
    "target = 'review_overall'  # ปรับตามจริง\n",
    "\n",
    "# 1) คำนวณค่าสหสัมพันธ์อย่างง่าย\n",
    "corr = df[features + [target]].corr()[target].sort_values(ascending=False)\n",
    "corr\n"
   ]
  },
  {
   "cell_type": "markdown",
   "id": "54830f2b",
   "metadata": {},
   "source": [
    "\n",
    "## 6) ใช้ ChatGPT เป็นผู้ช่วย (อย่างมีวิจารณญาณ)\n",
    "\n",
    "**ขั้นตอน:**  \n",
    "1. แต่ละกลุ่มตั้งคำถามใหม่เกี่ยวกับข้อมูล **1 คำถาม** (เช่น ความแตกต่างคะแนนระหว่าง 2 สไตล์, เทรนด์ ABV ต่อปี ฯลฯ)  \n",
    "2. พยายามเขียนโค้ดเองก่อน (ทำในเซลล์ถัดไป)  \n",
    "3. จากนั้นขอให้ ChatGPT เสนอวิธี/โค้ด **โดยแนบตัวอย่างข้อมูล/ชื่อคอลัมน์**  \n",
    "4. รันโค้ดของ ChatGPT และ **แก้ไขให้ถูกต้อง** หากจำเป็น  \n",
    "5. บันทึกสิ่งที่แก้ไขและสิ่งที่เรียนรู้\n",
    "\n",
    "> **บันทึกสะท้อน (Reflection):** อะไรที่ GPT ทำได้ดี/ทำไม่ได้? เราตรวจสอบความถูกต้องอย่างไร?\n"
   ]
  },
  {
   "cell_type": "code",
   "execution_count": 24,
   "id": "dba6b249",
   "metadata": {},
   "outputs": [
    {
     "data": {
      "text/html": [
       "<div>\n",
       "<style scoped>\n",
       "    .dataframe tbody tr th:only-of-type {\n",
       "        vertical-align: middle;\n",
       "    }\n",
       "\n",
       "    .dataframe tbody tr th {\n",
       "        vertical-align: top;\n",
       "    }\n",
       "\n",
       "    .dataframe thead th {\n",
       "        text-align: right;\n",
       "    }\n",
       "</style>\n",
       "<table border=\"1\" class=\"dataframe\">\n",
       "  <thead>\n",
       "    <tr style=\"text-align: right;\">\n",
       "      <th></th>\n",
       "      <th>review_taste</th>\n",
       "      <th>review_palate</th>\n",
       "    </tr>\n",
       "    <tr>\n",
       "      <th>beer_style</th>\n",
       "      <th></th>\n",
       "      <th></th>\n",
       "    </tr>\n",
       "  </thead>\n",
       "  <tbody>\n",
       "    <tr>\n",
       "      <th>Eisbock</th>\n",
       "      <td>4.211603</td>\n",
       "      <td>4.113594</td>\n",
       "    </tr>\n",
       "    <tr>\n",
       "      <th>Quadrupel (Quad)</th>\n",
       "      <td>4.210909</td>\n",
       "      <td>4.124986</td>\n",
       "    </tr>\n",
       "    <tr>\n",
       "      <th>American Double / Imperial Stout</th>\n",
       "      <td>4.187230</td>\n",
       "      <td>4.098669</td>\n",
       "    </tr>\n",
       "    <tr>\n",
       "      <th>American Wild Ale</th>\n",
       "      <td>4.149938</td>\n",
       "      <td>4.040632</td>\n",
       "    </tr>\n",
       "    <tr>\n",
       "      <th>Russian Imperial Stout</th>\n",
       "      <td>4.149569</td>\n",
       "      <td>4.086922</td>\n",
       "    </tr>\n",
       "  </tbody>\n",
       "</table>\n",
       "</div>"
      ],
      "text/plain": [
       "                                  review_taste  review_palate\n",
       "beer_style                                                   \n",
       "Eisbock                               4.211603       4.113594\n",
       "Quadrupel (Quad)                      4.210909       4.124986\n",
       "American Double / Imperial Stout      4.187230       4.098669\n",
       "American Wild Ale                     4.149938       4.040632\n",
       "Russian Imperial Stout                4.149569       4.086922"
      ]
     },
     "execution_count": 24,
     "metadata": {},
     "output_type": "execute_result"
    }
   ],
   "source": [
    "# 6.1 โค้ดที่กลุ่มเขียนเอง\n",
    "# TODO: เขียนโค้ดของกลุ่มที่นี่\n",
    "\n",
    "# 6.1 โค้ดที่กลุ่มเขียนเอง\n",
    "# คำถาม: เบียร์จากโรงเบียร์ไหนรสชาติเเละสัมผัสดีที่สุด?(review_taste,review_palate)\n",
    "avg_taste_by_style = df.groupby('beer_style')[['review_taste', 'review_palate']].mean().sort_values(by='review_taste', ascending=False)\n",
    "avg_taste_by_style.head(5) "
   ]
  },
  {
   "cell_type": "code",
   "execution_count": 25,
   "id": "951b758e",
   "metadata": {},
   "outputs": [
    {
     "name": "stdout",
     "output_type": "stream",
     "text": [
      "Index(['brewery_id', 'brewery_name', 'review_time', 'review_overall',\n",
      "       'review_aroma', 'review_appearance', 'review_profilename', 'beer_style',\n",
      "       'review_palate', 'review_taste', 'beer_name', 'beer_abv',\n",
      "       'beer_beerid'],\n",
      "      dtype='object')\n",
      "                               review_taste  review_palate  total_score\n",
      "brewery_name                                                           \n",
      "Rascal Creek Brewing Co.               5.00            5.0        10.00\n",
      "Edsten Brewing Company                 4.75            5.0         9.75\n",
      "Sherlock's Home                        4.90            4.6         9.50\n",
      "Ludwig Roth Bierbrauerei GmbH          5.00            4.5         9.50\n",
      "Thai Me Up                             5.00            4.5         9.50\n",
      "Brauerei Gundel                        4.50            5.0         9.50\n",
      "Elizabeth Street Brewery               5.00            4.5         9.50\n",
      "H.Nettelbeck KG                        4.50            5.0         9.50\n",
      "Weissbräu Kösslarn                     4.50            5.0         9.50\n",
      "Round Guys Brewing Company             4.50            5.0         9.50\n"
     ]
    }
   ],
   "source": [
    "# 6.2 โค้ดที่ได้จาก ChatGPT (ปรับแก้ถ้าจำเป็น)\n",
    "# TODO: วางโค้ดที่ได้จาก ChatGPT และแก้ไขให้รันได้จริง\n",
    "\n",
    "\n",
    "# 6.2 โค้ดที่ได้จาก ChatGPT (ปรับแก้ถ้าจำเป็น)\n",
    "# ตัวอย่างโค้ดจาก ChatGPT: เบียร์จากโรงเบียร์ไหนรสชาติเเละสัมผัสดีที่สุด?(review_taste,review_palate)\n",
    "import pandas as pd\n",
    "\n",
    "# โหลด dataset (เปลี่ยนชื่อไฟล์ตามที่คุณใช้งานจริง)\n",
    "df = pd.read_csv(\"beer_reviews.csv\")  # ถ้า dataset อยู่ใน csv\n",
    "\n",
    "# ตรวจสอบว่ามีคอลัมน์ที่เกี่ยวข้องหรือไม่\n",
    "print(df.columns)\n",
    "\n",
    "# เลือกเฉพาะคอลัมน์ที่ใช้วิเคราะห์\n",
    "df_selected = df[['brewery_name', 'review_taste', 'review_palate']]\n",
    "\n",
    "# คำนวณคะแนนเฉลี่ยของ taste และ palate ตามโรงเบียร์\n",
    "brewery_scores = df_selected.groupby('brewery_name').mean()\n",
    "\n",
    "# รวมคะแนน taste + palate เป็นตัววัดคุณภาพรวม\n",
    "brewery_scores['total_score'] = brewery_scores['review_taste'] + brewery_scores['review_palate']\n",
    "\n",
    "# เรียงลำดับหาโรงเบียร์ที่คะแนนรวมสูงสุด\n",
    "best_breweries = brewery_scores.sort_values('total_score', ascending=False).head(10)\n",
    "\n",
    "print(best_breweries)\n"
   ]
  },
  {
   "cell_type": "markdown",
   "id": "0978fa8a",
   "metadata": {},
   "source": [
    "\n",
    "**Reflection (3–5 บรรทัด):**  \n",
    "- เราขอให้ GPT ทำอะไร?  \n",
    "- โค้ดที่ได้มีข้อผิดพลาดหรือสมมติฐานใดบ้าง?  \n",
    "- เราตรวจสอบ/ปรับแก้อย่างไร? เราเชื่อมั่นผลลัพธ์เพียงใด?\n",
    "\n",
    "\n",
    "---\n",
    "\n",
    "\n",
    "- ใช้ Re-check algorithm ในหัวที่ติดไว้กับผลลัพธ์ที่ต้องเป็นจริง เเละขอให้ GPT เขียนโค้ดเพื่อวิเคราะห์ว่าเบียร์จากโรงเบียร์ใดมีรสชาติ (taste) และสัมผัส (palate) ดีที่สุดจากข้อมูลใน dataset.\n",
    "- โค้ดที่ได้ใช้การ groupby และ mean ในการหาค่าเฉลี่ย ซึ่งสมมติว่าข้อมูลไม่มี NaN และไม่มีโรงเบียร์ชื่อซ้ำที่ไม่เกี่ยวข้อง\n",
    "- เราได้ตรวจสอบชื่อคอลัมน์และดูตัวอย่างข้อมูลเพื่อยืนยันความถูกต้อง และลองรันโค้ดดูผลลัพธ์ เเละเรามีความเชื่อมั่นในผลลัพธ์ระดับหนึ่ง เนื่องจากใช้สถิติพื้นฐานและไม่มี error ระหว่างการรัน."
   ]
  },
  {
   "cell_type": "markdown",
   "id": "01ebcf97",
   "metadata": {},
   "source": [
    "\n",
    "---\n",
    "\n",
    "**หมายเหตุผู้เรียน**  \n",
    "- อ้างอิงชื่อคอลัมน์จาก `df.columns` ของชุดข้อมูลที่แจกจริง อาจแตกต่างจากตัวอย่างในโน้ตบุ๊กนี้  \n",
    "- ให้ความสำคัญกับ **ความถูกต้องและการอธิบายเหตุผล** มากกว่าการคัดลอกโค้ด\n",
    "\n",
    "\n"
   ]
  }
 ],
 "metadata": {
  "kernelspec": {
   "display_name": "Python 3",
   "language": "python",
   "name": "python3"
  },
  "language_info": {
   "codemirror_mode": {
    "name": "ipython",
    "version": 3
   },
   "file_extension": ".py",
   "mimetype": "text/x-python",
   "name": "python",
   "nbconvert_exporter": "python",
   "pygments_lexer": "ipython3",
   "version": "3.13.5"
  }
 },
 "nbformat": 4,
 "nbformat_minor": 5
}
